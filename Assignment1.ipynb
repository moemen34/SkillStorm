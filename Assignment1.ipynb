{
 "cells": [
  {
   "cell_type": "markdown",
   "metadata": {},
   "source": [
    "# Exercice 1"
   ]
  },
  {
   "cell_type": "code",
   "execution_count": 45,
   "metadata": {},
   "outputs": [
    {
     "name": "stdout",
     "output_type": "stream",
     "text": [
      "2024-06-17 17:09:25.232504\n",
      "2024-06-17\n",
      "days left: 94\n"
     ]
    }
   ],
   "source": [
    "import datetime\n",
    "\n",
    "#task 1\n",
    "current = datetime.datetime.now()\n",
    "print(datetime.datetime.now())\n",
    "\n",
    "#task 2\n",
    "current2 = current.strftime('%Y-%m-%d')\n",
    "print(current2)\n",
    "\n",
    "#task 3\n",
    "today = datetime.date.today()\n",
    "next_BD = datetime.date(2024, 9, 19)\n",
    "\n",
    "print(\"days left:\", (next_BD - today).days)"
   ]
  },
  {
   "cell_type": "markdown",
   "metadata": {},
   "source": [
    "# Exercise 2"
   ]
  },
  {
   "cell_type": "code",
   "execution_count": 6,
   "metadata": {},
   "outputs": [
    {
     "name": "stdout",
     "output_type": "stream",
     "text": [
      "{'Student1': '70', 'Student2': '75', 'Student3': '80', 'Student4': '85'}\n",
      "{'Student1': {'ICSI 201': '70', 'ICSI 404': '75'}, 'Student2': {'ICSI 201': '70', 'ICSI 404': '75'}, 'Student3': {'ICSI 201': '70', 'ICSI 404': '75'}, 'Student4': {'ICSI 201': '70', 'ICSI 404': '75'}}\n",
      "Student1\n",
      "Student2\n",
      "Student3\n",
      "Student4\n"
     ]
    },
    {
     "data": {
      "text/plain": [
       "{'Student1', 'Student2', 'Student3', 'Student4'}"
      ]
     },
     "execution_count": 6,
     "metadata": {},
     "output_type": "execute_result"
    }
   ],
   "source": [
    "#task 1\n",
    "dicti = {\n",
    "    \"Student1\":\"70\",\n",
    "    \"Student2\":\"75\",\n",
    "    \"Student3\":\"80\"\n",
    "}\n",
    "\n",
    "#task 2\n",
    "\n",
    "dicti[\"Student4\"] = \"85\"\n",
    "\n",
    "print(dicti)\n",
    "\n",
    "#task 3\n",
    "\n",
    "for k, v in dicti.items():\n",
    "    dicti[k]= {\"ICSI 201\": \"70\", \"ICSI 404\": \"75\"}\n",
    "    \n",
    "    \n",
    "print(dicti)\n",
    "\n",
    "\n",
    "#task 4\n",
    "\n",
    "foo = set()\n",
    "\n",
    "for k in dicti.keys():\n",
    "    print(k)\n",
    "    foo.add(k)\n",
    "\n",
    "\n",
    "foo"
   ]
  },
  {
   "cell_type": "markdown",
   "metadata": {},
   "source": [
    "# Exercise 3"
   ]
  },
  {
   "cell_type": "code",
   "execution_count": 33,
   "metadata": {},
   "outputs": [
    {
     "name": "stdout",
     "output_type": "stream",
     "text": [
      "['This', 'is', 'a', 'string', 'with', 'a', 'bunch', 'of', 'words']\n",
      "This|is|a|string|with|a|bunch|of|words|\n",
      "count:  4\n"
     ]
    }
   ],
   "source": [
    "#task 1\n",
    "string = \"This is a string with a bunch of words\"\n",
    "\n",
    "word_list = string.split()\n",
    "\n",
    "print(word_list)\n",
    "\n",
    "#task 2\n",
    "string2 = \"\"\n",
    "\n",
    "for word in word_list:\n",
    "    #string2 = string2 + word + \"|\"\n",
    "    string2 += word + \"|\"\n",
    "    \n",
    "print(string2)\n",
    "\n",
    "#task 3\n",
    "\n",
    "char0 = 's'\n",
    "count = 0\n",
    "\n",
    "for char in string:\n",
    "    if(char == char0):\n",
    "        count += 1\n",
    "        \n",
    "        \n",
    "print(\"count: \", count)\n",
    "\n",
    "\n"
   ]
  },
  {
   "cell_type": "markdown",
   "metadata": {},
   "source": [
    "# Exercise 4"
   ]
  },
  {
   "cell_type": "code",
   "execution_count": 37,
   "metadata": {},
   "outputs": [
    {
     "name": "stdout",
     "output_type": "stream",
     "text": [
      "[2, 66, 11, 1, 88, 44, 33]\n",
      "[2, 66, 1, 88, 44, 33]\n",
      "[1, 2, 33, 44, 66, 88]\n"
     ]
    }
   ],
   "source": [
    "list = [2, 66, 11, 1, 88, 44]\n",
    "\n",
    "list.append(33)\n",
    "\n",
    "print(list)\n",
    "\n",
    "list.remove(11)\n",
    "\n",
    "print(list)\n",
    "\n",
    "list.sort()\n",
    "\n",
    "print(list)"
   ]
  },
  {
   "cell_type": "markdown",
   "metadata": {},
   "source": [
    "# Challenge 1"
   ]
  },
  {
   "cell_type": "code",
   "execution_count": null,
   "metadata": {},
   "outputs": [],
   "source": []
  },
  {
   "cell_type": "code",
   "execution_count": null,
   "metadata": {},
   "outputs": [],
   "source": []
  }
 ],
 "metadata": {
  "kernelspec": {
   "display_name": "Python 3",
   "language": "python",
   "name": "python3"
  },
  "language_info": {
   "codemirror_mode": {
    "name": "ipython",
    "version": 3
   },
   "file_extension": ".py",
   "mimetype": "text/x-python",
   "name": "python",
   "nbconvert_exporter": "python",
   "pygments_lexer": "ipython3",
   "version": "3.12.4"
  }
 },
 "nbformat": 4,
 "nbformat_minor": 2
}
