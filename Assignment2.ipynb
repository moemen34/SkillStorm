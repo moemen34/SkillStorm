{
 "cells": [
  {
   "cell_type": "code",
   "execution_count": 13,
   "metadata": {},
   "outputs": [
    {
     "name": "stdout",
     "output_type": "stream",
     "text": [
      "You entered: gfhgj\n",
      "True\n",
      "True\n",
      "False\n",
      "False\n",
      "False\n"
     ]
    }
   ],
   "source": [
    "import re\n",
    "import string\n",
    "\n",
    "user_input = input(\"Please enter something: \")\n",
    "\n",
    "print(\"You entered:\", user_input)\n",
    "\n",
    "match1 = r\"[a-zA-Z0-9]\"\n",
    "match2 = r\"[a-zA-Z]\"\n",
    "match3 = r\"[0-9]\"\n",
    "match4 = r\"[a-z]\"\n",
    "match5 = r\"[A-Z]\"\n",
    "\n",
    "if(re.search(match1, user_input)):\n",
    "    print(\"True\")\n",
    "else:\n",
    "    print(\"False\")\n",
    "    \n",
    "    \n",
    "if(re.search(match2, user_input)):\n",
    "    print(\"True\")\n",
    "else:\n",
    "    print(\"False\")\n",
    "    \n",
    "if(re.search(match3, user_input)):\n",
    "    print(\"True\")\n",
    "else:\n",
    "    print(\"False\")\n",
    "\n",
    "if(re.search(match3, user_input)):\n",
    "    print(\"True\")\n",
    "else:\n",
    "    print(\"False\")\n",
    "    \n",
    "if(re.search(match3, user_input)):\n",
    "    print(\"True\")\n",
    "else:\n",
    "    print(\"False\")"
   ]
  },
  {
   "cell_type": "code",
   "execution_count": 66,
   "metadata": {},
   "outputs": [
    {
     "name": "stdout",
     "output_type": "stream",
     "text": [
      "['testt']\n",
      "[' 5', ' 2']\n",
      "['what!']\n",
      "['33', '1221332']\n",
      "['s']\n",
      "[('testt', 't'), ('string33', '3'), ('55for1221332', '3'), ('assignment', 'n')]\n"
     ]
    }
   ],
   "source": [
    "#import re\n",
    "\n",
    "string1 = \"testt this? string33 55for1221332 assignment 2 on this idk what!\\n\" \n",
    "\n",
    "word_list = re.findall(r\"^[a-zA-Z]+\\b\", string1)\n",
    "print(word_list)\n",
    "\n",
    "word_list = re.findall(r\" [0-9]\", string1)\n",
    "print(word_list)\n",
    "\n",
    "word_list = re.findall(r\"\\b[a-zA-Z]+[\" + re.escape(string.punctuation) + r\"]$\" , string1)\n",
    "print(word_list)\n",
    "\n",
    "word_list = re.findall(r\"[1-3]{2,}\" , string1)\n",
    "print(word_list)\n",
    "\n",
    "word_list = re.findall(r\"\\b.*([a-zA-Z])\\1.*\\b\" , string1)\n",
    "print(word_list)\n",
    "\n",
    "word_list = re.findall(r\"\\b(\\w*(\\w)\\w*\\2\\w*)\\b\" , string1)\n",
    "print(word_list)\n",
    "\n",
    "\n"
   ]
  },
  {
   "cell_type": "code",
   "execution_count": 73,
   "metadata": {},
   "outputs": [
    {
     "name": "stdout",
     "output_type": "stream",
     "text": [
      "125526\n"
     ]
    }
   ],
   "source": [
    "file_path = \"../cloned/20240617-DE-TS-LectureMaterials/Python/Data/Pride_and_Prejudice.txt\"\n",
    "\n",
    "with open(file = file_path, mode = 'rt', encoding = 'utf-8') as f:\n",
    "    book = f.read() #readtext as a string\n",
    "    \n",
    "#print(book)\n",
    "\n",
    "word_list = re.findall(r\"\\b[a-zA-Z]+\\b\" , book)\n",
    "print(len(word_list))"
   ]
  },
  {
   "cell_type": "code",
   "execution_count": 80,
   "metadata": {},
   "outputs": [
    {
     "name": "stdout",
     "output_type": "stream",
     "text": [
      "6\n"
     ]
    }
   ],
   "source": [
    "def word_score(*words):\n",
    "    score = 0\n",
    "    for word in words:\n",
    "        vowel_list = re.findall(r\"[aeiouy]\" , word)\n",
    "        if(len(vowel_list)%2 == 0):\n",
    "            score+=2\n",
    "        else:\n",
    "            score+=1\n",
    "    \n",
    "    return score\n",
    "        \n",
    "        \n",
    "print(word_score(\"fruit\", \"cabbage\", \"soda\", \"Shampoo\"))"
   ]
  },
  {
   "cell_type": "markdown",
   "metadata": {},
   "source": []
  }
 ],
 "metadata": {
  "kernelspec": {
   "display_name": "Python 3",
   "language": "python",
   "name": "python3"
  },
  "language_info": {
   "codemirror_mode": {
    "name": "ipython",
    "version": 3
   },
   "file_extension": ".py",
   "mimetype": "text/x-python",
   "name": "python",
   "nbconvert_exporter": "python",
   "pygments_lexer": "ipython3",
   "version": "3.12.4"
  }
 },
 "nbformat": 4,
 "nbformat_minor": 2
}
