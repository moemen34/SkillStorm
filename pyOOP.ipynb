{
 "cells": [
  {
   "cell_type": "code",
   "execution_count": 79,
   "metadata": {},
   "outputs": [],
   "source": [
    "class ComputerComponent:\n",
    "    def __init__(self, manufacturer, model, serial_number):\n",
    "        self.manufacturer = manufacturer\n",
    "        self.model = model\n",
    "        self.serial_number = serial_number\n",
    "        \n",
    "    def __str__(self):\n",
    "        return f\"{self.manufacturer}, {self.model}, {self.serial_number}\"\n",
    "    "
   ]
  },
  {
   "cell_type": "code",
   "execution_count": 88,
   "metadata": {},
   "outputs": [],
   "source": [
    "# Subcalasses\n",
    "class CPU(ComputerComponent):\n",
    "    def __init__(self, manufacturer, model, serial_number, cores, clock_speed):\n",
    "        super().__init__(manufacturer, model, serial_number)\n",
    "        self.cores = cores\n",
    "        self.clock_speed = clock_speed\n",
    "        \n",
    "    def __str__(self):\n",
    "        return f\"\"\"CPU: \\n\\t cores: {self.cores} \n",
    "    \\t clock_speed: {self.clock_speed}\n",
    "    \\t {super().__str__()}\"\"\"\n",
    "        \n",
    "class Memory(ComputerComponent):\n",
    "    def __init__(self, manufacturer, model, serial_number, capacity):\n",
    "        super().__init__(manufacturer, model, serial_number)\n",
    "        self.capacity = capacity\n",
    "        \n",
    "    def __str__(self):\n",
    "        return f\"\"\"Memory: \\n\\t capacity: {self.capacity}\n",
    "    \\t {super().__str__()}\"\"\"\n",
    "        \n",
    "class Storage(ComputerComponent):\n",
    "    def __init__(self, manufacturer, model, serial_number, storage_type, size):\n",
    "        super().__init__(manufacturer, model, serial_number)\n",
    "        self.storage_type = storage_type\n",
    "        self.size = size\n",
    "    def __str__(self):\n",
    "        #print(super().__str__)\n",
    "        return f\"\"\"Storage: \\n\\t storage_type: {self.storage_type} \n",
    "    \\t size: {self.size}\n",
    "    \\t {super().__str__()}\"\"\""
   ]
  },
  {
   "cell_type": "code",
   "execution_count": 89,
   "metadata": {},
   "outputs": [],
   "source": [
    "class Computer:\n",
    "    def __init__(self, cpu: CPU, memory: Memory, storage: Storage):\n",
    "        if(type(cpu) != CPU):\n",
    "            raise Exception(\"CPU object expected\")\n",
    "        elif(type(memory) != Memory):\n",
    "            raise Exception(\"Memory object expected\")\n",
    "        elif(type(storage) != Storage):\n",
    "            raise Exception(\"Storage object expected\")\n",
    "        self.cpu = cpu\n",
    "        self.memory = memory\n",
    "        self.storage = storage\n",
    "        \n",
    "    def __str__(self):\n",
    "        return f\"\"\"Computer: \\n\\t {self.cpu}\n",
    "    \\n\\t {self.memory} \n",
    "    \\n\\t {self.storage}\"\"\""
   ]
  },
  {
   "cell_type": "code",
   "execution_count": 90,
   "metadata": {},
   "outputs": [
    {
     "name": "stdout",
     "output_type": "stream",
     "text": [
      "CPU: \n",
      "\t cores: 754 \n",
      "    \t clock_speed: 769/s\n",
      "    \t man, mod, 123-23-2111-1\n",
      "Memory: \n",
      "\t capacity: 32GB\n",
      "    \t man, mod, 123-23-2111-2\n",
      "Storage: \n",
      "\t storage_type: type1 \n",
      "    \t size: 7TB\n",
      "    \t man, mod, 123-23-2111-3\n"
     ]
    }
   ],
   "source": [
    "cpu = CPU('man', 'mod', '123-23-2111-1', 754, '769/s')\n",
    "print(cpu)\n",
    "\n",
    "memory = Memory('man', 'mod', '123-23-2111-2','32GB')\n",
    "print(memory)\n",
    "\n",
    "storage = Storage('man', 'mod', '123-23-2111-3', 'type1', '7TB')\n",
    "print(storage)"
   ]
  },
  {
   "cell_type": "code",
   "execution_count": 69,
   "metadata": {},
   "outputs": [
    {
     "name": "stdout",
     "output_type": "stream",
     "text": [
      "Computer: \n",
      "\t CPU: \n",
      "\t cores: 754 \n",
      "    \t clock_speed: 769/s\n",
      "    \n",
      "\t Memory: \n",
      "\t capacity: 32GB \n",
      "    \n",
      "\t Storage: \n",
      "\t storage_type: type1 \n",
      "    \t size: 7TB\n"
     ]
    }
   ],
   "source": [
    "computer = Computer(cpu, memory, storage)\n",
    "print(computer)"
   ]
  },
  {
   "cell_type": "code",
   "execution_count": 70,
   "metadata": {},
   "outputs": [],
   "source": [
    "def replace_component(computer:Computer):\n",
    "    inp = input('Enter the name of component to replace \"CPU, Memory, Storage\":')\n",
    "    if(inp.lower() == \"CPU\".lower()):\n",
    "        print(\"Changing CPU\")\n",
    "        new_cpu_cores = input('Enter the cores of the new CPU:')\n",
    "        new_cpu_clock_speed = input('Enter the clock speed of the new CPU:')\n",
    "        computer.cpu = CPU(new_cpu_cores, new_cpu_clock_speed)\n",
    "        \n",
    "    elif(inp.lower() == \"Memory\".lower()):\n",
    "        print(\"Changing Memory\")\n",
    "        new_memory_capacity = input('Enter the capacity of the new Memory:')\n",
    "        computer.memory = Memory(new_memory_capacity)\n",
    "        \n",
    "    elif(inp.lower() == \"Storage\".lower()):  \n",
    "        print(\"Changing Storage\")\n",
    "        new_storage_type = input('Enter the Storage type of the new Storage:')\n",
    "        new_storage_size = input('Enter the clock size of the new Storage:')\n",
    "        computer.storage = Storage(new_storage_type, new_storage_size)"
   ]
  },
  {
   "cell_type": "code",
   "execution_count": 71,
   "metadata": {},
   "outputs": [
    {
     "name": "stdout",
     "output_type": "stream",
     "text": [
      "Computer: \n",
      "\t CPU: \n",
      "\t cores: 754 \n",
      "    \t clock_speed: 769/s\n",
      "    \n",
      "\t Memory: \n",
      "\t capacity: 32GB \n",
      "    \n",
      "\t Storage: \n",
      "\t storage_type: type1 \n",
      "    \t size: 7TB\n"
     ]
    }
   ],
   "source": [
    "replace_component(computer)\n",
    "\n",
    "print(computer)"
   ]
  },
  {
   "cell_type": "code",
   "execution_count": null,
   "metadata": {},
   "outputs": [],
   "source": []
  }
 ],
 "metadata": {
  "kernelspec": {
   "display_name": ".venv",
   "language": "python",
   "name": "python3"
  },
  "language_info": {
   "codemirror_mode": {
    "name": "ipython",
    "version": 3
   },
   "file_extension": ".py",
   "mimetype": "text/x-python",
   "name": "python",
   "nbconvert_exporter": "python",
   "pygments_lexer": "ipython3",
   "version": "3.12.4"
  }
 },
 "nbformat": 4,
 "nbformat_minor": 2
}
