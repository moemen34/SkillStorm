{
 "cells": [
  {
   "cell_type": "code",
   "execution_count": 154,
   "metadata": {},
   "outputs": [
    {
     "data": {
      "text/plain": [
       "True"
      ]
     },
     "execution_count": 154,
     "metadata": {},
     "output_type": "execute_result"
    }
   ],
   "source": [
    "import numpy as np\n",
    "import pandas as pd\n",
    "import matplotlib as plt\n",
    "import seaborn as sns\n",
    "import requests\n",
    "import os\n",
    "import pyodbc\n",
    "from datetime import datetime\n",
    "from sqlalchemy import create_engine, exc\n",
    "from dotenv import load_dotenv\n",
    "\n",
    "load_dotenv()"
   ]
  },
  {
   "cell_type": "code",
   "execution_count": 155,
   "metadata": {},
   "outputs": [],
   "source": [
    "etf = 'QQQ'\n",
    "range = 700 #to go back to jan 23, window 10\n",
    "window = 100 # or 100"
   ]
  },
  {
   "cell_type": "code",
   "execution_count": 156,
   "metadata": {},
   "outputs": [],
   "source": [
    "def polygon(stock_ticker, lim, wndw):\n",
    "    # Set up the GET request\n",
    "    polygon_url = 'https://api.polygon.io/v1/indicators/sma'\n",
    "    polygon_key = os.environ['polygon_api_key']\n",
    "    \n",
    "    # Parameters for the request\n",
    "    params = {\n",
    "        'timespan': 'day',\n",
    "        'adjusted': 'true',\n",
    "        'window': wndw,\n",
    "        'series_type': 'close',\n",
    "        'order': 'asc',\n",
    "        'limit': lim,\n",
    "        'apiKey': polygon_key\n",
    "    }\n",
    "    \n",
    "    # Construct the full URL\n",
    "    full_url = f'{polygon_url}/{stock_ticker}'\n",
    "    \n",
    "    # Request the data\n",
    "    response = requests.get(full_url, params=params)\n",
    "    polygon_data = response.json()\n",
    "    results = polygon_data['results']['values']\n",
    "    \n",
    "    df_polygon = pd.DataFrame(results)\n",
    "    #df_polygon.head(5)\n",
    "    \n",
    "    # Convert the Unix timestamp to datetime\n",
    "    df_polygon['date'] = pd.to_datetime(df_polygon['timestamp'], unit='ms')\n",
    "    \n",
    "    # Format the datetime to the desired string format (YYYY-MM-DD)\n",
    "    df_polygon['date'] = df_polygon['date'].dt.strftime('%Y-%m-%d')\n",
    "    \n",
    "    # Drop the unix time column\n",
    "    df_polygon = df_polygon.drop(columns=['timestamp'])\n",
    "    \n",
    "    # Filter the DataFrame to include only dates from 01/01/2023\n",
    "    df_polygon = df_polygon[df_polygon['date'] >= '2023-01-01']\n",
    "\n",
    "    \n",
    "    # Add Symbol\n",
    "    df_polygon['Symbol'] = etf\n",
    "    return df_polygon\n",
    "    \n"
   ]
  },
  {
   "cell_type": "code",
   "execution_count": 157,
   "metadata": {},
   "outputs": [
    {
     "name": "stdout",
     "output_type": "stream",
     "text": [
      "<class 'pandas.core.frame.DataFrame'>\n",
      "Index: 254 entries, 0 to 451\n",
      "Data columns (total 3 columns):\n",
      " #   Column  Non-Null Count  Dtype  \n",
      "---  ------  --------------  -----  \n",
      " 0   value   254 non-null    float64\n",
      " 1   date    254 non-null    object \n",
      " 2   Symbol  254 non-null    object \n",
      "dtypes: float64(1), object(2)\n",
      "memory usage: 7.9+ KB\n"
     ]
    }
   ],
   "source": [
    "# Example usage\n",
    "df = polygon(etf, range, window)\n",
    "# Remove even rows\n",
    "#df = df.iloc[1::2]\n",
    "#df.head(5)\n",
    "\n",
    " # Remove rows with duplicate date values\n",
    "df = df.drop_duplicates(subset=['date'])\n",
    "#df.jead(30)\n",
    "df.info()\n"
   ]
  },
  {
   "cell_type": "code",
   "execution_count": 158,
   "metadata": {},
   "outputs": [
    {
     "name": "stdout",
     "output_type": "stream",
     "text": [
      "Connection successful!\n",
      "Records Inserted!\n"
     ]
    }
   ],
   "source": [
    "# Define the connection string for Windows Authentication\n",
    "server = 'MoemenLaptop'\n",
    "database = 'InvestmentPortfolio'\n",
    "connection_string = f'DRIVER={{ODBC Driver 17 for SQL Server}};SERVER={server};DATABASE={database};Trusted_Connection=yes;'\n",
    "\n",
    "# Establish the connection\n",
    "try:\n",
    "    conn = pyodbc.connect(connection_string)\n",
    "    print(\"Connection successful!\")\n",
    "    cursor = conn.cursor()\n",
    "\n",
    "    # Iterate over rows of the DataFrame\n",
    "    for index, row in df.iterrows():\n",
    "        # Example SQL insert command\n",
    "        sql_command = f\"INSERT INTO SMA_{window}_Day (value, [date], symbol) VALUES (?, ?, ?)\"\n",
    "        \n",
    "        # Execute the command\n",
    "        cursor.execute(sql_command, tuple(row))\n",
    "\n",
    "    # Commit the transaction\n",
    "    conn.commit()\n",
    "    \n",
    "    print(\"Records Inserted!\")\n",
    "\n",
    "except Exception as e:\n",
    "    print(f\"Error: {e}\")\n",
    "    \n",
    "    \n",
    "conn.close()"
   ]
  }
 ],
 "metadata": {
  "kernelspec": {
   "display_name": ".venv",
   "language": "python",
   "name": "python3"
  },
  "language_info": {
   "codemirror_mode": {
    "name": "ipython",
    "version": 3
   },
   "file_extension": ".py",
   "mimetype": "text/x-python",
   "name": "python",
   "nbconvert_exporter": "python",
   "pygments_lexer": "ipython3",
   "version": "3.12.4"
  }
 },
 "nbformat": 4,
 "nbformat_minor": 2
}
