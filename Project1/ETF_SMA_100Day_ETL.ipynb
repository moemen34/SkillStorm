{
 "cells": [
  {
   "cell_type": "code",
   "execution_count": 156,
   "metadata": {},
   "outputs": [
    {
     "data": {
      "text/plain": [
       "True"
      ]
     },
     "execution_count": 156,
     "metadata": {},
     "output_type": "execute_result"
    }
   ],
   "source": [
    "import numpy as np\n",
    "import pandas as pd\n",
    "import matplotlib as plt\n",
    "import seaborn as sns\n",
    "import requests\n",
    "import os\n",
    "import pyodbc\n",
    "from datetime import datetime\n",
    "from sqlalchemy import create_engine, exc\n",
    "from dotenv import load_dotenv\n",
    "\n",
    "load_dotenv()"
   ]
  },
  {
   "cell_type": "code",
   "execution_count": 157,
   "metadata": {},
   "outputs": [],
   "source": [
    "etf = 'SPY'\n",
    "range = 500 #to go back to jan 23, window 10\n",
    "window = 10"
   ]
  },
  {
   "cell_type": "code",
   "execution_count": 158,
   "metadata": {},
   "outputs": [],
   "source": [
    "def polygon(stock_ticker, lim, wndw):\n",
    "    #https://api.polygon.io/v1/indicators/sma/QQQ?timespan=day&adjusted=true&window=10&series_type=close&order=desc&limit=380&apiKey=H4Gnpv99ZxBuVG5EkE322cesxnfaPnJP\n",
    "    #https://api.polygon.io/v1/indicators/sma/QQQ?timespan=day&adjusted=true&window=100&series_type=close&order=asc&limit=380&apiKey=H4Gnpv99ZxBuVG5EkE322cesxnfaPnJP\n",
    "    \n",
    "    # Set up the GET request\n",
    "    polygon_url = 'https://api.polygon.io/v1/indicators/sma/'\n",
    "    ticker = f'/{stock_ticker}'\n",
    "    polygon_key = os.environ['polygon_api_key']\n",
    "\n",
    "    params = {\n",
    "            'timespan': 'day',\n",
    "            'adjusted': 'true',\n",
    "            'window' : '10',\n",
    "            'series_type': 'close',\n",
    "            'order': 'desc',\n",
    "            'limit': '380',\n",
    "            'apiKey': polygon_key\n",
    "            }\n",
    "\n",
    "    full_url = polygon_url + ticker \n",
    "\n",
    "    # Request the data\n",
    "    response2 = requests.get(full_url, params)\n",
    "    #polygon_data = response2.json()\n",
    "    \n",
    "    #polygon_data\n",
    "\n",
    "    # Access the \"results\" part of the response\n",
    "    #####results = polygon_data[\"results\"]\n",
    "    \n",
    "    ####df_polygon = pd.DataFrame(results)\n",
    "    ####df_polygon.head(5)\n",
    "    \n",
    "    return response2"
   ]
  },
  {
   "cell_type": "code",
   "execution_count": 159,
   "metadata": {},
   "outputs": [],
   "source": [
    "def polygon(stock_ticker, lim, wndw):\n",
    "    # Set up the GET request\n",
    "    polygon_url = 'https://api.polygon.io/v1/indicators/sma'\n",
    "    polygon_key = os.environ['polygon_api_key']\n",
    "    \n",
    "    # Parameters for the request\n",
    "    params = {\n",
    "        'timespan': 'day',\n",
    "        'adjusted': 'true',\n",
    "        'window': wndw,\n",
    "        'series_type': 'close',\n",
    "        'order': 'asc',\n",
    "        'limit': lim,\n",
    "        'apiKey': polygon_key\n",
    "    }\n",
    "    \n",
    "    # Construct the full URL\n",
    "    full_url = f'{polygon_url}/{stock_ticker}'\n",
    "    \n",
    "    # Request the data\n",
    "    response = requests.get(full_url, params=params)\n",
    "    polygon_data = response.json()\n",
    "    results = polygon_data['results']['values']\n",
    "    \n",
    "    df_polygon = pd.DataFrame(results)\n",
    "    #df_polygon.head(5)\n",
    "    \n",
    "    # Convert the Unix timestamp to datetime\n",
    "    df_polygon['date'] = pd.to_datetime(df_polygon['timestamp'], unit='ms')\n",
    "\n",
    "    # Format the datetime to the desired string format (YYYY-MM-DD)\n",
    "    df_polygon['date'] = df_polygon['date'].dt.strftime('%Y-%m-%d')\n",
    "    \n",
    "    # Drop the unix time column\n",
    "    df_polygon = df_polygon.drop(columns=['timestamp'])\n",
    "    \n",
    "    # Add Symbol\n",
    "    df_polygon['Symbol'] = etf\n",
    "    return df_polygon\n",
    "    \n"
   ]
  },
  {
   "cell_type": "code",
   "execution_count": 160,
   "metadata": {},
   "outputs": [
    {
     "data": {
      "text/html": [
       "<div>\n",
       "<style scoped>\n",
       "    .dataframe tbody tr th:only-of-type {\n",
       "        vertical-align: middle;\n",
       "    }\n",
       "\n",
       "    .dataframe tbody tr th {\n",
       "        vertical-align: top;\n",
       "    }\n",
       "\n",
       "    .dataframe thead th {\n",
       "        text-align: right;\n",
       "    }\n",
       "</style>\n",
       "<table border=\"1\" class=\"dataframe\">\n",
       "  <thead>\n",
       "    <tr style=\"text-align: right;\">\n",
       "      <th></th>\n",
       "      <th>value</th>\n",
       "      <th>date</th>\n",
       "      <th>Symbol</th>\n",
       "    </tr>\n",
       "  </thead>\n",
       "  <tbody>\n",
       "    <tr>\n",
       "      <th>0</th>\n",
       "      <td>386.980</td>\n",
       "      <td>2022-07-22</td>\n",
       "      <td>SPY</td>\n",
       "    </tr>\n",
       "    <tr>\n",
       "      <th>1</th>\n",
       "      <td>388.114</td>\n",
       "      <td>2022-07-25</td>\n",
       "      <td>SPY</td>\n",
       "    </tr>\n",
       "    <tr>\n",
       "      <th>2</th>\n",
       "      <td>389.120</td>\n",
       "      <td>2022-07-26</td>\n",
       "      <td>SPY</td>\n",
       "    </tr>\n",
       "    <tr>\n",
       "      <th>3</th>\n",
       "      <td>391.341</td>\n",
       "      <td>2022-07-27</td>\n",
       "      <td>SPY</td>\n",
       "    </tr>\n",
       "    <tr>\n",
       "      <th>4</th>\n",
       "      <td>394.157</td>\n",
       "      <td>2022-07-28</td>\n",
       "      <td>SPY</td>\n",
       "    </tr>\n",
       "  </tbody>\n",
       "</table>\n",
       "</div>"
      ],
      "text/plain": [
       "     value        date Symbol\n",
       "0  386.980  2022-07-22    SPY\n",
       "1  388.114  2022-07-25    SPY\n",
       "2  389.120  2022-07-26    SPY\n",
       "3  391.341  2022-07-27    SPY\n",
       "4  394.157  2022-07-28    SPY"
      ]
     },
     "execution_count": 160,
     "metadata": {},
     "output_type": "execute_result"
    }
   ],
   "source": [
    "# Example usage\n",
    "df = polygon(etf, range, window)\n",
    "df.head(5)"
   ]
  },
  {
   "cell_type": "code",
   "execution_count": 161,
   "metadata": {},
   "outputs": [
    {
     "name": "stdout",
     "output_type": "stream",
     "text": [
      "Connection successful!\n",
      "Records Inserted!\n"
     ]
    }
   ],
   "source": [
    "# Define the connection string for Windows Authentication\n",
    "server = 'MoemenLaptop'\n",
    "database = 'InvestmentPortfolio'\n",
    "connection_string = f'DRIVER={{ODBC Driver 17 for SQL Server}};SERVER={server};DATABASE={database};Trusted_Connection=yes;'\n",
    "\n",
    "# Establish the connection\n",
    "try:\n",
    "    conn = pyodbc.connect(connection_string)\n",
    "    print(\"Connection successful!\")\n",
    "    cursor = conn.cursor()\n",
    "\n",
    "    # Iterate over rows of the DataFrame\n",
    "    for index, row in df.iterrows():\n",
    "        # Example SQL insert command\n",
    "        sql_command = \"INSERT INTO SMA_10_Day (value, [date], symbol) VALUES (?, ?, ?)\"\n",
    "        \n",
    "        # Execute the command\n",
    "        cursor.execute(sql_command, tuple(row))\n",
    "\n",
    "    # Commit the transaction\n",
    "    conn.commit()\n",
    "    \n",
    "    print(\"Records Inserted!\")\n",
    "\n",
    "except Exception as e:\n",
    "    print(f\"Error: {e}\")\n",
    "    \n",
    "    \n",
    "conn.close()"
   ]
  }
 ],
 "metadata": {
  "kernelspec": {
   "display_name": ".venv",
   "language": "python",
   "name": "python3"
  },
  "language_info": {
   "codemirror_mode": {
    "name": "ipython",
    "version": 3
   },
   "file_extension": ".py",
   "mimetype": "text/x-python",
   "name": "python",
   "nbconvert_exporter": "python",
   "pygments_lexer": "ipython3",
   "version": "3.12.4"
  }
 },
 "nbformat": 4,
 "nbformat_minor": 2
}
