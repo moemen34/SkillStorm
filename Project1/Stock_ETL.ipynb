{
 "cells": [
  {
   "cell_type": "code",
   "execution_count": 45,
   "metadata": {},
   "outputs": [
    {
     "data": {
      "text/plain": [
       "True"
      ]
     },
     "execution_count": 45,
     "metadata": {},
     "output_type": "execute_result"
    }
   ],
   "source": [
    "import numpy as np\n",
    "import pandas as pd\n",
    "import matplotlib as plt\n",
    "import seaborn as sns\n",
    "import requests\n",
    "import os\n",
    "import pyodbc\n",
    "from datetime import datetime\n",
    "from sqlalchemy import create_engine, exc\n",
    "from dotenv import load_dotenv\n",
    "\n",
    "load_dotenv()"
   ]
  },
  {
   "cell_type": "code",
   "execution_count": 48,
   "metadata": {},
   "outputs": [],
   "source": [
    "start_date = '2023-01-01'\n",
    "end_date = '2024-06-30'\n",
    "etf = 'QQQ'"
   ]
  },
  {
   "cell_type": "markdown",
   "metadata": {},
   "source": [
    "### Gather Stock data through Polygon.ai and clean it using Pandas df\n",
    "\n",
    "* Convert date from unix timestamp to datetime object\n",
    "* Rename Columns     "
   ]
  },
  {
   "cell_type": "code",
   "execution_count": 49,
   "metadata": {},
   "outputs": [],
   "source": [
    "\n",
    "def polygon(stock_ticker, date_start, date_end):\n",
    "\n",
    "    # Set up the GET request\n",
    "    polygon_url = 'https://api.polygon.io/v2/aggs/ticker'\n",
    "    stocksTicker = f'/{stock_ticker}'\n",
    "    timespan = '/range/1/month'\n",
    "    date_from = f'/{date_start}'\n",
    "    date_to = f'/{date_end}'\n",
    "    params = '?adjusted=true&sort=asc&'\n",
    "    polygon_key = os.environ['polygon_api_key']\n",
    "\n",
    "    params = {'adjusted':'true', \n",
    "            'sort': 'asc',\n",
    "            'apiKey': polygon_key\n",
    "            }\n",
    "\n",
    "    full_url = polygon_url + stocksTicker + timespan + date_from + date_to\n",
    "\n",
    "    # Request the data\n",
    "    response2 = requests.get(full_url, params)\n",
    "    polygon_data = response2.json()\n",
    "\n",
    "    # Access the \"results\" part of the response\n",
    "    results = polygon_data[\"results\"]\n",
    "    \n",
    "    df_polygon = pd.DataFrame(results)\n",
    "    df_polygon.head(5)\n",
    "\n",
    "    # Convert the Unix timestamp to datetime\n",
    "    df_polygon['date'] = pd.to_datetime(df_polygon['t'], unit='ms')\n",
    "\n",
    "    # Format the datetime to (YYYY-MM-DD)\n",
    "    df_polygon['date'] = df_polygon['date'].dt.strftime('%Y-%m-%d')\n",
    "\n",
    "    # Drop the unix time column\n",
    "    df_polygon = df_polygon.drop(columns=['t'])\n",
    "\n",
    "    # Rename cols\n",
    "    df_polygon.rename(columns={'v': 'volume', 'o':'open', 'c':'close', 'h':'high', 'l':'low'}, inplace=True)\n",
    "\n",
    "    #drop unused cols\n",
    "    df_polygon = df_polygon[['date', 'open', 'high', 'low', 'close']]\n",
    "    \n",
    "    # Convert date from object to datetime\n",
    "    df_polygon[['date']] = df_polygon[['date']].apply(pd.to_datetime)\n",
    "    #df_polygon['date'] = df_polygon['date'].dt.strftime('%Y-%m')\n",
    "    #df_polygon['date'] = df_polygon['date'] + '-01'\n",
    "    \n",
    "    \n",
    "    return df_polygon\n"
   ]
  },
  {
   "cell_type": "markdown",
   "metadata": {},
   "source": [
    "### Gather Stock data through AlphaVantage (second source to validate the data) and clean it using Pandas df\n",
    "\n",
    "* Filter the entries to only include dates from 01/01/2023 to 07/03/2024\n",
    "* sort by date in asc order\n",
    "* Convert values from object to numerics"
   ]
  },
  {
   "cell_type": "code",
   "execution_count": 50,
   "metadata": {},
   "outputs": [],
   "source": [
    "def alpha_vantage(stock_ticker, date_start, date_end):\n",
    "\n",
    "    # Set up GET request\n",
    "    base_url = 'https://www.alphavantage.co'\n",
    "    stocks_endpoint = '/query'\n",
    "\n",
    "    stocks_url = base_url+stocks_endpoint\n",
    "\n",
    "    api_key = os.environ['alphavantage_api_key']\n",
    "\n",
    "    params = {'function':'TIME_SERIES_MONTHLY', \n",
    "            'symbol': stock_ticker,\n",
    "            'outputsize': 'full',\n",
    "            'apikey' : api_key}\n",
    "\n",
    "    # Request the data        \n",
    "    alpha_response = requests.get(stocks_url, params)\n",
    "    alpha_data = alpha_response.json()\n",
    "    time_series = alpha_data[\"Monthly Time Series\"] #was Time Series (Daily)\n",
    "\n",
    "    # Filter the entries to only include dates from 01/01/2023 to 07/03/2024\n",
    "    start_date = datetime.strptime(date_start, \"%Y-%m-%d\")\n",
    "    end_date = datetime.strptime(date_end, \"%Y-%m-%d\")\n",
    "    filtered_data = {date: values for date, values in time_series.items() if (datetime.strptime(date, \"%Y-%m-%d\") >= start_date and datetime.strptime(date, \"%Y-%m-%d\") <= end_date)}\n",
    "    \n",
    "    # Switch cols and rows\n",
    "    df_alpha = pd.DataFrame.from_dict(filtered_data, orient=\"index\")\n",
    "    df_alpha.index = pd.to_datetime(df_alpha.index)\n",
    "    # Rename columns to remove the numeric prefix\n",
    "    df_alpha = df_alpha.rename(columns=lambda x: x.split(\". \")[1])  \n",
    "\n",
    "    # Reset the index to create a new numerical index\n",
    "    df_alpha = df_alpha.reset_index()\n",
    "    df_alpha.rename(columns={'index': 'date'}, inplace=True)\n",
    "\n",
    "    # Sort DataFrame by 'date' column in ascending order\n",
    "    df_alpha = df_alpha.sort_values(by='date', ascending=True)\n",
    "    df_alpha = df_alpha.reset_index()\n",
    "\n",
    "    df_alpha = df_alpha.drop(columns=['index'])\n",
    "    \n",
    "    # Convert values from object to numerics\n",
    "    df_alpha[['open', 'high', 'low', 'close']] = df_alpha[['open', 'high', 'low', 'close']].apply(pd.to_numeric, errors='coerce')\n",
    "    \n",
    "    # Remove 'volume'\n",
    "    df_alpha = df_alpha[['date', 'open', 'high', 'low', 'close']]\n",
    "    \n",
    "    df_alpha['date'] = df_alpha['date'].dt.strftime('%Y-%m')\n",
    "    df_alpha['date'] = df_alpha['date'] + '-01'\n",
    "    \n",
    "\n",
    "    return df_alpha\n",
    " "
   ]
  },
  {
   "cell_type": "markdown",
   "metadata": {},
   "source": [
    "## Data Validation\n",
    "- Summary statistics\n",
    "- Comparing to other source (Alpha Vantage)"
   ]
  },
  {
   "cell_type": "markdown",
   "metadata": {},
   "source": [
    "### Check for Null and NaN Values through summary statistics"
   ]
  },
  {
   "cell_type": "code",
   "execution_count": 51,
   "metadata": {},
   "outputs": [],
   "source": [
    "# Check for nulls\n",
    "def null_check(df):\n",
    "    null_counts = df.isnull().sum()\n",
    "    return(null_counts)"
   ]
  },
  {
   "cell_type": "code",
   "execution_count": 52,
   "metadata": {},
   "outputs": [
    {
     "name": "stdout",
     "output_type": "stream",
     "text": [
      "date     0\n",
      "open     0\n",
      "high     0\n",
      "low      0\n",
      "close    0\n",
      "dtype: int64\n",
      "________________________\n",
      "date     0\n",
      "open     0\n",
      "high     0\n",
      "low      0\n",
      "close    0\n",
      "dtype: int64\n"
     ]
    }
   ],
   "source": [
    "df_1 = polygon(etf, start_date, end_date)\n",
    "df_2 = alpha_vantage(etf, start_date, end_date)\n",
    "\n",
    "print(null_check(df_1))\n",
    "print('________________________')\n",
    "print(null_check(df_2))\n"
   ]
  },
  {
   "cell_type": "markdown",
   "metadata": {},
   "source": [
    "\n",
    "### Compare the dataframes obtained\n",
    "* If the data matches, load it to our SQL database\n",
    "* If some of the data doesn't match, replace it with the average of both dfs, then store in SQL database"
   ]
  },
  {
   "cell_type": "code",
   "execution_count": 53,
   "metadata": {},
   "outputs": [
    {
     "name": "stdout",
     "output_type": "stream",
     "text": [
      "DataFrames are different.\n",
      "Differences:\n",
      "         date    open    high     low  close\n",
      "9  2023-10-01  426.62  438.14  408.91  418.2\n",
      "_________________________________________\n",
      "         date    open    high     low  close\n",
      "9  2023-10-01  426.62  438.14  409.21  418.2\n",
      "\n",
      "Modified rows:\n",
      "         date    open    high     low  close\n",
      "9  2023-10-01  426.62  438.14  409.06  418.2\n"
     ]
    }
   ],
   "source": [
    "# Check if DataFrames from polygon and alphavantage are equal\n",
    "if df_1.equals(df_2):\n",
    "    print(\"DataFrames are identical.\")\n",
    "else:\n",
    "    print(\"DataFrames are different.\")\n",
    "    # Compare DataFrames and filter differences\n",
    "    mask = df_1 != df_2\n",
    "    diff_df = df_1[mask.any(axis=1)]  # Select rows where any difference exists\n",
    "    diff_df2 = df_2[mask.any(axis=1)]  # Select rows where any difference exists\n",
    "\n",
    "    print(\"Differences:\")\n",
    "    print(diff_df)\n",
    "    print('_________________________________________')\n",
    "    print(diff_df2)\n",
    "\n",
    "    print('')\n",
    "    # Calculate the average where differences are found\n",
    "    avg_values = (df_1[mask] + df_2[mask]) / 2\n",
    "\n",
    "    # Replace the differing values in both DataFrames with the average values\n",
    "    df_1[mask] = avg_values\n",
    "    df_2[mask] = avg_values\n",
    "    \n",
    "    # Print new values \n",
    "    modified_rows_1 = df_1[mask.any(axis=1)]\n",
    "\n",
    "    # Print the modified rows\n",
    "    print(\"Modified rows:\")\n",
    "    print(modified_rows_1)\n"
   ]
  },
  {
   "cell_type": "markdown",
   "metadata": {},
   "source": [
    "# Load the data to the db"
   ]
  },
  {
   "cell_type": "code",
   "execution_count": 54,
   "metadata": {},
   "outputs": [
    {
     "data": {
      "text/html": [
       "<div>\n",
       "<style scoped>\n",
       "    .dataframe tbody tr th:only-of-type {\n",
       "        vertical-align: middle;\n",
       "    }\n",
       "\n",
       "    .dataframe tbody tr th {\n",
       "        vertical-align: top;\n",
       "    }\n",
       "\n",
       "    .dataframe thead th {\n",
       "        text-align: right;\n",
       "    }\n",
       "</style>\n",
       "<table border=\"1\" class=\"dataframe\">\n",
       "  <thead>\n",
       "    <tr style=\"text-align: right;\">\n",
       "      <th></th>\n",
       "      <th>date</th>\n",
       "      <th>open</th>\n",
       "      <th>high</th>\n",
       "      <th>low</th>\n",
       "      <th>close</th>\n",
       "      <th>symbol</th>\n",
       "    </tr>\n",
       "  </thead>\n",
       "  <tbody>\n",
       "    <tr>\n",
       "      <th>0</th>\n",
       "      <td>2023-01-01</td>\n",
       "      <td>384.370</td>\n",
       "      <td>408.16</td>\n",
       "      <td>377.831</td>\n",
       "      <td>406.48</td>\n",
       "      <td>SPY</td>\n",
       "    </tr>\n",
       "    <tr>\n",
       "      <th>1</th>\n",
       "      <td>2023-02-01</td>\n",
       "      <td>405.211</td>\n",
       "      <td>418.31</td>\n",
       "      <td>393.640</td>\n",
       "      <td>396.26</td>\n",
       "      <td>SPY</td>\n",
       "    </tr>\n",
       "    <tr>\n",
       "      <th>2</th>\n",
       "      <td>2023-03-01</td>\n",
       "      <td>395.410</td>\n",
       "      <td>409.70</td>\n",
       "      <td>380.650</td>\n",
       "      <td>409.39</td>\n",
       "      <td>SPY</td>\n",
       "    </tr>\n",
       "    <tr>\n",
       "      <th>3</th>\n",
       "      <td>2023-04-01</td>\n",
       "      <td>408.850</td>\n",
       "      <td>415.94</td>\n",
       "      <td>403.780</td>\n",
       "      <td>415.93</td>\n",
       "      <td>SPY</td>\n",
       "    </tr>\n",
       "    <tr>\n",
       "      <th>4</th>\n",
       "      <td>2023-05-01</td>\n",
       "      <td>415.470</td>\n",
       "      <td>422.58</td>\n",
       "      <td>403.740</td>\n",
       "      <td>417.85</td>\n",
       "      <td>SPY</td>\n",
       "    </tr>\n",
       "  </tbody>\n",
       "</table>\n",
       "</div>"
      ],
      "text/plain": [
       "         date     open    high      low   close symbol\n",
       "0  2023-01-01  384.370  408.16  377.831  406.48    SPY\n",
       "1  2023-02-01  405.211  418.31  393.640  396.26    SPY\n",
       "2  2023-03-01  395.410  409.70  380.650  409.39    SPY\n",
       "3  2023-04-01  408.850  415.94  403.780  415.93    SPY\n",
       "4  2023-05-01  415.470  422.58  403.740  417.85    SPY"
      ]
     },
     "execution_count": 54,
     "metadata": {},
     "output_type": "execute_result"
    }
   ],
   "source": [
    "df_1['symbol'] = etf\n",
    "df_2['symbol'] = etf\n",
    "\n",
    "df_2.head(5)"
   ]
  },
  {
   "cell_type": "code",
   "execution_count": 55,
   "metadata": {},
   "outputs": [
    {
     "name": "stdout",
     "output_type": "stream",
     "text": [
      "Connection successful!\n",
      "Records Inserted!\n"
     ]
    }
   ],
   "source": [
    "# Define the connection string for Windows Authentication\n",
    "server = 'MoemenLaptop'\n",
    "database = 'InvestmentPortfolio'\n",
    "connection_string = f'DRIVER={{ODBC Driver 17 for SQL Server}};SERVER={server};DATABASE={database};Trusted_Connection=yes;'\n",
    "\n",
    "# Establish the connection\n",
    "try:\n",
    "    conn = pyodbc.connect(connection_string)\n",
    "    print(\"Connection successful!\")\n",
    "    cursor = conn.cursor()\n",
    "\n",
    "    # Iterate over rows of the DataFrame\n",
    "    for index, row in df_2.iterrows():\n",
    "        # Example SQL insert command\n",
    "        sql_command = \"INSERT INTO Monthly_Data (date, [open], high, low, [close], symbol) VALUES (?, ?, ?, ?, ?, ?)\"\n",
    "        \n",
    "        # Execute the command\n",
    "        cursor.execute(sql_command, tuple(row))\n",
    "\n",
    "    # Commit the transaction\n",
    "    conn.commit()\n",
    "    \n",
    "    print(\"Records Inserted!\")\n",
    "\n",
    "except Exception as e:\n",
    "    print(f\"Error: {e}\")\n",
    "    \n",
    "    \n",
    "conn.close()"
   ]
  },
  {
   "cell_type": "code",
   "execution_count": null,
   "metadata": {},
   "outputs": [],
   "source": []
  }
 ],
 "metadata": {
  "kernelspec": {
   "display_name": ".venv",
   "language": "python",
   "name": "python3"
  },
  "language_info": {
   "codemirror_mode": {
    "name": "ipython",
    "version": 3
   },
   "file_extension": ".py",
   "mimetype": "text/x-python",
   "name": "python",
   "nbconvert_exporter": "python",
   "pygments_lexer": "ipython3",
   "version": "3.12.4"
  }
 },
 "nbformat": 4,
 "nbformat_minor": 2
}
